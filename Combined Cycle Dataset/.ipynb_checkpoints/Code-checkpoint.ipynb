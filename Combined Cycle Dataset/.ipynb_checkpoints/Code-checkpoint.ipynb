{
 "cells": [
  {
   "cell_type": "code",
   "execution_count": null,
   "metadata": {},
   "outputs": [],
   "source": []
  },
  {
   "cell_type": "code",
   "execution_count": 2,
   "metadata": {},
   "outputs": [],
   "source": [
    "def step_gradient(s,y, learning_rate, m,t):\n",
    "    m_slope = [0 for i in range(len(s[0])+1)]\n",
    "    M = len(s)\n",
    "    new_m= [0 for i in range(len(s[0])+1)]\n",
    "    for i in range(M):\n",
    "        \n",
    "        val=0\n",
    "        for j in range(len(s[0])+1):\n",
    "            if j!=len(s[0]):\n",
    "                val+=(m[j]*s[i][j])\n",
    "            elif j==len(s[0]):\n",
    "                val+=m[j]*1        \n",
    "        for j in range(len(s[0])+1):\n",
    "            if j!=len(s[0]):\n",
    "                m_slope[j] += (-2/M)* (y[i] -val)*s[i][j]\n",
    "            elif j==len(s[0]):\n",
    "                m_slope[j]+=(-2/M)* (y[i] -val)*1\n",
    "    for j in range(len(s[0])+1):\n",
    "        new_m[j]= m[j] - learning_rate*m_slope[j]\n",
    "    return new_m"
   ]
  },
  {
   "cell_type": "code",
   "execution_count": 3,
   "metadata": {},
   "outputs": [],
   "source": [
    "def gd(s,y, learning_rate, num_iterations):\n",
    "    m =[0 for i in range(len(s[0])+1)]\n",
    "    for i in range(num_iterations):\n",
    "        if i==0:\n",
    "            t=1\n",
    "        else:\n",
    "            t=0\n",
    "        m = step_gradient(s,y, learning_rate, m,t)\n",
    "    return m\n"
   ]
  },
  {
   "cell_type": "code",
   "execution_count": 10,
   "metadata": {},
   "outputs": [
    {
     "data": {
      "text/plain": [
       "[-0.5975325595255592,\n",
       " -0.3590458718661182,\n",
       " 0.08009993227154667,\n",
       " -0.04079718052950373,\n",
       " 4.373270357490394e-14]"
      ]
     },
     "execution_count": 10,
     "metadata": {},
     "output_type": "execute_result"
    }
   ],
   "source": [
    "import pandas  as pd\n",
    "import numpy as np\n",
    "from sklearn import preprocessing\n",
    "s=np.genfromtxt(\"training_ccpp_x_y_train.csv\",delimiter=\",\")\n",
    "s=preprocessing.scale(s)\n",
    "y=s[: ,-1]\n",
    "s=s[:,:-1]\n",
    "learning_rate = 0.0101\n",
    "num_iterations = 265\n",
    "m=gd(s,y,learning_rate,num_iterations)\n",
    "m\n"
   ]
  },
  {
   "cell_type": "code",
   "execution_count": null,
   "metadata": {},
   "outputs": [],
   "source": []
  },
  {
   "cell_type": "code",
   "execution_count": 12,
   "metadata": {},
   "outputs": [],
   "source": [
    "s= np.loadtxt(\"test_ccpp_x_test.csv\", delimiter=\",\")\n",
    "prediction=list()\n",
    "rows=len(s)\n",
    "cols=len(s[0])\n",
    "for i in range(rows):\n",
    "    val=0\n",
    "    for j in range(cols):\n",
    "        val+=(s[i][j]*m[j])\n",
    "    val+=m[-1]\n",
    "    prediction.append(val)\n",
    "np.savetxt('predection.csv',prediction,fmt='%.1f')"
   ]
  },
  {
   "cell_type": "code",
   "execution_count": 9,
   "metadata": {},
   "outputs": [
    {
     "data": {
      "text/plain": [
       "array([[ 3.88203164, -0.47968561,  1.19321481, ...,  0.86318341,\n",
       "        -1.72394297,  1.14793924],\n",
       "       [-0.4496825 , -0.47968561,  0.54572124, ..., -1.07706957,\n",
       "         0.41293844, -0.87954882],\n",
       "       [-0.4624454 , -0.47968561,  0.23746473, ...,  1.23275541,\n",
       "         0.41293844, -0.46700418],\n",
       "       ...,\n",
       "       [-0.45831967,  2.09168571, -1.34873963, ..., -0.01455008,\n",
       "         0.36041572, -0.656393  ],\n",
       "       [-0.4494016 , -0.47968561, -0.28455761, ...,  1.18655891,\n",
       "         0.30708851,  0.26852914],\n",
       "       [-0.09779398, -0.47968561,  1.42247091, ..., -1.67762407,\n",
       "        -3.12998863,  0.56949587]])"
      ]
     },
     "execution_count": 9,
     "metadata": {},
     "output_type": "execute_result"
    }
   ],
   "source": [
    "s"
   ]
  },
  {
   "cell_type": "code",
   "execution_count": 101,
   "metadata": {},
   "outputs": [
    {
     "data": {
      "text/plain": [
       "array([[-0.40784991, -0.48772236, -1.2660231 , ...,  0.41057102,\n",
       "        -1.09799011, 37.9       ],\n",
       "       [-0.40737368, -0.48772236,  0.24705682, ...,  0.29116915,\n",
       "        -0.52047412, 21.4       ],\n",
       "       [ 0.1251786 , -0.48772236,  1.01599907, ..., -3.79579542,\n",
       "         0.89107588, 12.7       ],\n",
       "       ...,\n",
       "       [-0.40831101, -0.48772236,  0.24705682, ...,  0.33206621,\n",
       "        -0.33404299, 20.8       ],\n",
       "       [-0.41061997, -0.48772236, -1.15221381, ...,  0.203235  ,\n",
       "        -0.74475218, 22.6       ],\n",
       "       [ 0.34290895, -0.48772236,  1.01599907, ...,  0.38787479,\n",
       "        -1.35871335, 50.        ]])"
      ]
     },
     "execution_count": 101,
     "metadata": {},
     "output_type": "execute_result"
    }
   ],
   "source": []
  }
 ],
 "metadata": {
  "kernelspec": {
   "display_name": "Python 3",
   "language": "python",
   "name": "python3"
  },
  "language_info": {
   "codemirror_mode": {
    "name": "ipython",
    "version": 3
   },
   "file_extension": ".py",
   "mimetype": "text/x-python",
   "name": "python",
   "nbconvert_exporter": "python",
   "pygments_lexer": "ipython3",
   "version": "3.8.5"
  }
 },
 "nbformat": 4,
 "nbformat_minor": 4
}
